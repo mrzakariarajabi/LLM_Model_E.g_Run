{
 "cells": [
  {
   "cell_type": "code",
   "execution_count": null,
   "metadata": {},
   "outputs": [],
   "source": [
    "from transformers import pipeline\n",
    "generator = pipeline('text-generation',\n",
    "                     model='huggingtweets/doctor_emmet')\n",
    "generator(\"My dream is\", num_return_sequences=5)"
   ]
  }
 ],
 "metadata": {
  "language_info": {
   "name": "python"
  }
 },
 "nbformat": 4,
 "nbformat_minor": 2
}
