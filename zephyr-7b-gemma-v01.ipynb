{
 "cells": [
  {
   "cell_type": "code",
   "execution_count": 1,
   "metadata": {},
   "outputs": [],
   "source": [
    "import torch\n",
    "from transformers import pipeline"
   ]
  },
  {
   "cell_type": "code",
   "execution_count": 2,
   "metadata": {},
   "outputs": [
    {
     "name": "stderr",
     "output_type": "stream",
     "text": [
      "Gemma's activation function should be approximate GeLU and not exact GeLU.\n",
      "Changing the activation function to `gelu_pytorch_tanh`.if you want to use the legacy `gelu`, edit the `model.config` to set `hidden_activation=gelu`   instead of `hidden_act`. See https://github.com/huggingface/transformers/pull/29402 for more details.\n"
     ]
    },
    {
     "data": {
      "application/vnd.jupyter.widget-view+json": {
       "model_id": "f61129a807ee4a6a911a76fb62937d2d",
       "version_major": 2,
       "version_minor": 0
      },
      "text/plain": [
       "Loading checkpoint shards:   0%|          | 0/4 [00:00<?, ?it/s]"
      ]
     },
     "metadata": {},
     "output_type": "display_data"
    },
    {
     "name": "stderr",
     "output_type": "stream",
     "text": [
      "WARNING:root:Some parameters are on the meta device device because they were offloaded to the cpu.\n"
     ]
    }
   ],
   "source": [
    "pipe = pipeline(\n",
    "    \"text-generation\",\n",
    "    model=\"HuggingFaceH4/zephyr-7b-gemma-v0.1\",\n",
    "    device_map=\"auto\",\n",
    "    torch_dtype=torch.bfloat16,\n",
    ")"
   ]
  },
  {
   "cell_type": "code",
   "execution_count": 7,
   "metadata": {},
   "outputs": [],
   "source": [
    "messages = [\n",
    "    {\n",
    "        \"role\": \"system\",\n",
    "        \"content\": \"\",  # Model not yet trained for follow this\n",
    "    },\n",
    "    {\"role\": \"user\", \"content\": \"•\tWhat are the ethical considerations involved in using genetic testing? \"},\n",
    "]"
   ]
  },
  {
   "cell_type": "code",
   "execution_count": 8,
   "metadata": {},
   "outputs": [],
   "source": [
    "outputs = pipe(\n",
    "    messages,\n",
    "    max_new_tokens=1024,\n",
    "    do_sample=True,\n",
    "    temperature=0.7,\n",
    "    top_k=50,\n",
    "    top_p=0.95,\n",
    "    stop_sequence=\"<|im_end|>\",\n",
    "    batch_size=256,\n",
    "    num_beams=1,\n",
    "    repetition_penalty=1.0\n",
    ")"
   ]
  },
  {
   "cell_type": "code",
   "execution_count": 9,
   "metadata": {},
   "outputs": [
    {
     "name": "stdout",
     "output_type": "stream",
     "text": [
      "There are several ethical considerations involved in using genetic testing, which are important to consider when developing policies and guidelines for its use. These considerations include:\n",
      "\n",
      "1. Privacy: Genetic testing can reveal sensitive and private information about an individual's health and genetic makeup. It is essential to ensure that this information is kept confidential and used only for the intended purpose.\n",
      "\n",
      "2. Discrimination: There is a risk that genetic information could be used to discriminate against individuals in various aspects of their lives, such as employment, insurance, or access to government benefits. It is essential to prevent or mitigate such discrimination.\n",
      "\n",
      "3. Autonomy: Genetic testing can reveal information that individuals may not want to know, such as a predisposition to a particular disease or condition. It is important to respect individuals' autonomy and allow them to make informed decisions about whether to undergo genetic testing.\n",
      "\n",
      "4. Consent: Informed consent is crucial when using genetic testing. Individuals must be provided with clear and accurate information about the testing process, including its benefits, risks, and limitations. They should also understand that they have the right to decline testing or withdraw their consent at any time.\n",
      "\n",
      "5. Responsibility: Genetic testing can reveal information about an individual's genetic makeup that may impact their family members' health. It is important to consider the potential impact of genetic testing on family members and to ensure that individuals are aware of their responsibilities to share relevant information with their family members.\n",
      "\n",
      "6. Justice and equity: Genetic testing may not be accessible or affordable for all individuals, which could exacerbate existing health disparities. It is important to ensure that access to genetic testing is equitable and affordable for all individuals.\n",
      "\n",
      "7. Research and disclosure: Genetic testing may be used in research settings, and it is important to ensure that research involving genetic testing is conducted ethically and that individuals' genetic information is not disclosed without their consent.\n",
      "\n",
      "In summary, ethical considerations in the use of genetic testing are critical to ensure that individuals' privacy, autonomy, and rights are protected while promoting the benefits of genetic testing. It is important to develop policies and guidelines that address these considerations to ensure that genetic testing is used in an ethical and responsible manner.\n"
     ]
    }
   ],
   "source": [
    "print(outputs[0][\"generated_text\"][-1][\"content\"])"
   ]
  }
 ],
 "metadata": {
  "kernelspec": {
   "display_name": "Python 3",
   "language": "python",
   "name": "python3"
  },
  "language_info": {
   "codemirror_mode": {
    "name": "ipython",
    "version": 3
   },
   "file_extension": ".py",
   "mimetype": "text/x-python",
   "name": "python",
   "nbconvert_exporter": "python",
   "pygments_lexer": "ipython3",
   "version": "3.12.0"
  }
 },
 "nbformat": 4,
 "nbformat_minor": 2
}
